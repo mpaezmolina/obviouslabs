{
  "nbformat": 4,
  "nbformat_minor": 0,
  "metadata": {
    "colab": {
      "provenance": [],
      "machine_shape": "hm",
      "collapsed_sections": [],
      "include_colab_link": true
    },
    "kernelspec": {
      "name": "python3",
      "display_name": "Python 3"
    },
    "language_info": {
      "name": "python"
    },
    "gpuClass": "standard"
  },
  "cells": [
    {
      "cell_type": "markdown",
      "metadata": {
        "id": "view-in-github",
        "colab_type": "text"
      },
      "source": [
        "<a href=\"https://colab.research.google.com/github/mpaezmolina/obviouslabs/blob/master/Generator_TF_NN_Classification.ipynb\" target=\"_parent\"><img src=\"https://colab.research.google.com/assets/colab-badge.svg\" alt=\"Open In Colab\"/></a>"
      ]
    },
    {
      "cell_type": "code",
      "execution_count": 3,
      "metadata": {
        "id": "cBub7gdXlRbm"
      },
      "outputs": [],
      "source": [
        "import ol_utils as ut\n",
        "import pandas as pd\n",
        "import numpy as np\n",
        "import tensorflow as tf\n",
        "from sklearn.model_selection import train_test_split\n",
        "from sklearn.metrics import confusion_matrix\n",
        "from imblearn.under_sampling import RandomUnderSampler\n",
        "from typing import Counter"
      ]
    },
    {
      "cell_type": "code",
      "source": [
        "X_train, X_test, y_train, y_test = ut.get_data(\"CatBoostClassifier_1m_table\")"
      ],
      "metadata": {
        "colab": {
          "base_uri": "https://localhost:8080/"
        },
        "id": "lJmyc-TfxDvc",
        "outputId": "4f575813-03d7-484d-f85f-e790763d84b5"
      },
      "execution_count": null,
      "outputs": [
        {
          "output_type": "stream",
          "name": "stdout",
          "text": [
            "Before cleaninig: 2275203\n",
            "After cleaninig: 2275203\n",
            "Original dataset shape Counter({False: 1138399, True: 1136804})\n"
          ]
        }
      ]
    },
    {
      "cell_type": "code",
      "source": [
        "model = tf.keras.Sequential()\n",
        "model.add(tf.keras.layers.Input(33))\n",
        "model.add(tf.keras.layers.Dense(33, activation=\"relu\"))\n",
        "model.add(tf.keras.layers.Dense(17, activation=\"relu\"))\n",
        "model.add(tf.keras.layers.Dense(1, activation=\"sigmoid\"))\n",
        "\n",
        "model.compile(loss=tf.keras.losses.BinaryCrossentropy(), optimizer=tf.keras.optimizers.Adam(learning_rate=0.001), metrics=[tf.keras.metrics.BinaryAccuracy()])\n",
        "#model.compile(loss=tf.keras.losses.BinaryCrossentropy(), optimizer=tf.keras.optimizers.Adam(learning_rate=0.001), metrics=\"accuracy\")"
      ],
      "metadata": {
        "id": "aqhcl_MDCOuy"
      },
      "execution_count": null,
      "outputs": []
    },
    {
      "cell_type": "code",
      "source": [
        "y_train.shape"
      ],
      "metadata": {
        "colab": {
          "base_uri": "https://localhost:8080/"
        },
        "id": "zYHaISwvKgDW",
        "outputId": "1c3ea8e3-7c86-4cd4-dc39-f07d5cfbdf06"
      },
      "execution_count": null,
      "outputs": [
        {
          "output_type": "execute_result",
          "data": {
            "text/plain": [
              "(1932566,)"
            ]
          },
          "metadata": {},
          "execution_count": 16
        }
      ]
    },
    {
      "cell_type": "code",
      "source": [
        "history = model.fit(X_train, y_train, epochs=10)"
      ],
      "metadata": {
        "id": "f2MboYerFt8P",
        "colab": {
          "base_uri": "https://localhost:8080/"
        },
        "outputId": "5bc52d4e-f103-438a-9d52-da4e0e04dde7"
      },
      "execution_count": null,
      "outputs": [
        {
          "output_type": "stream",
          "name": "stdout",
          "text": [
            "Epoch 1/10\n",
            "60393/60393 [==============================] - 25s 405us/step - loss: nan - binary_accuracy: 0.4999\n",
            "Epoch 2/10\n",
            "60393/60393 [==============================] - 26s 431us/step - loss: nan - binary_accuracy: 0.4999\n",
            "Epoch 3/10\n",
            "60393/60393 [==============================] - 26s 424us/step - loss: nan - binary_accuracy: 0.4999\n",
            "Epoch 4/10\n",
            "60393/60393 [==============================] - 23s 386us/step - loss: nan - binary_accuracy: 0.4999\n",
            "Epoch 5/10\n",
            "60393/60393 [==============================] - 26s 432us/step - loss: nan - binary_accuracy: 0.4999\n",
            "Epoch 6/10\n",
            "60393/60393 [==============================] - 25s 420us/step - loss: nan - binary_accuracy: 0.4999\n",
            "Epoch 7/10\n",
            "60393/60393 [==============================] - 25s 407us/step - loss: nan - binary_accuracy: 0.4999\n",
            "Epoch 8/10\n",
            "60393/60393 [==============================] - 25s 421us/step - loss: nan - binary_accuracy: 0.4999\n",
            "Epoch 9/10\n",
            "60393/60393 [==============================] - 24s 394us/step - loss: nan - binary_accuracy: 0.4999\n",
            "Epoch 10/10\n",
            "60393/60393 [==============================] - 24s 398us/step - loss: nan - binary_accuracy: 0.4999\n"
          ]
        }
      ]
    },
    {
      "cell_type": "code",
      "source": [
        "model.evaluate(X_test, y_test)"
      ],
      "metadata": {
        "colab": {
          "base_uri": "https://localhost:8080/"
        },
        "id": "YIzzNIJpLTjW",
        "outputId": "87588fc7-f621-4ce4-8f61-ae0ae72bdd5d"
      },
      "execution_count": null,
      "outputs": [
        {
          "output_type": "stream",
          "name": "stdout",
          "text": [
            "17795/17795 [==============================] - 6s 307us/step - loss: 0.7025 - binary_accuracy: 0.6922 - precision_1: 0.3574 - recall_1: 0.0181\n"
          ]
        },
        {
          "output_type": "execute_result",
          "data": {
            "text/plain": [
              "[0.7025406956672668,\n",
              " 0.6922158598899841,\n",
              " 0.35741227865219116,\n",
              " 0.01809973083436489]"
            ]
          },
          "metadata": {},
          "execution_count": 16
        }
      ]
    },
    {
      "cell_type": "code",
      "source": [
        "model.save('modelito')"
      ],
      "metadata": {
        "colab": {
          "base_uri": "https://localhost:8080/"
        },
        "id": "OqN-4LFE9r--",
        "outputId": "a2563a1d-2c5b-43dc-c0ce-c697a7bf5cfe"
      },
      "execution_count": null,
      "outputs": [
        {
          "output_type": "stream",
          "name": "stdout",
          "text": [
            "INFO:tensorflow:Assets written to: modelito/assets\n"
          ]
        }
      ]
    },
    {
      "cell_type": "code",
      "source": [
        "X_test_tensors = tf.constant(X_test.squeeze())\n",
        "y_test_tensors = tf.constant(y_test.squeeze())\n",
        "x_test_tensor = X_test_tensors[10]\n",
        "x_test_tensor = tf.reshape(x_test_tensor, (1,34))\n",
        "y_test_tensor = y_test_tensors[10]\n",
        "x_test_tensor, y_test_tensor"
      ],
      "metadata": {
        "id": "iR3rcBDjNjzs",
        "colab": {
          "base_uri": "https://localhost:8080/"
        },
        "outputId": "eb142bd7-4b33-4b40-ba44-32054b8346cb"
      },
      "execution_count": null,
      "outputs": [
        {
          "output_type": "execute_result",
          "data": {
            "text/plain": [
              "(<tf.Tensor: shape=(1, 34), dtype=float64, numpy=\n",
              " array([[ 3.04933800e+00,  3.06385000e+00,  3.14852435e+00,\n",
              "          2.97003120e+00,  3.05927778e+00, -2.62406844e-02,\n",
              "          7.37312002e-04, -2.55033724e-02,  2.34913750e+01,\n",
              "         -1.77256209e+01, -5.55000000e+01,  4.93886976e+01,\n",
              "         -6.10000000e-02, -2.85347868e+00,  3.08017947e+00,\n",
              "         -1.00000000e+00,  2.99570986e+00,  2.99570986e+00,\n",
              "          3.24661643e-02, -2.16509464e+01, -4.95192308e-02,\n",
              "          3.25158238e+01, -4.75071683e-01,  3.00063883e+00,\n",
              "          3.04933800e+00,  3.09803717e+00,  1.00000000e+00,\n",
              "          1.00000000e+00,  1.00000000e+00, -1.00000000e+00,\n",
              "          1.00000000e+00,  0.00000000e+00,  1.00000000e+00,\n",
              "          1.00000000e+00]])>,\n",
              " <tf.Tensor: shape=(), dtype=float16, numpy=0.0>)"
            ]
          },
          "metadata": {},
          "execution_count": 18
        }
      ]
    },
    {
      "cell_type": "code",
      "source": [
        "model.predict(x_test_tensor)"
      ],
      "metadata": {
        "colab": {
          "base_uri": "https://localhost:8080/"
        },
        "id": "qfLVEVP6N0Td",
        "outputId": "6a71be13-60fc-46e8-8650-e32b12b2fb1f"
      },
      "execution_count": null,
      "outputs": [
        {
          "output_type": "stream",
          "name": "stdout",
          "text": [
            "1/1 [==============================] - 0s 58ms/step\n"
          ]
        },
        {
          "output_type": "execute_result",
          "data": {
            "text/plain": [
              "array([[0.11605632]], dtype=float32)"
            ]
          },
          "metadata": {},
          "execution_count": 19
        }
      ]
    },
    {
      "cell_type": "code",
      "source": [
        "y_pred = model.predict(X_test)"
      ],
      "metadata": {
        "colab": {
          "base_uri": "https://localhost:8080/"
        },
        "id": "CLFvke51OS39",
        "outputId": "2cfc119f-9941-42f6-a09d-ee023fc5957e"
      },
      "execution_count": null,
      "outputs": [
        {
          "output_type": "stream",
          "name": "stdout",
          "text": [
            "17795/17795 [==============================] - 4s 221us/step\n"
          ]
        }
      ]
    },
    {
      "cell_type": "code",
      "source": [
        "y_pred"
      ],
      "metadata": {
        "colab": {
          "base_uri": "https://localhost:8080/",
          "height": 166
        },
        "id": "w6-68q2qOYQC",
        "outputId": "075d1bfd-fda4-455b-dc5c-af7876854fe9"
      },
      "execution_count": null,
      "outputs": [
        {
          "output_type": "error",
          "ename": "NameError",
          "evalue": "ignored",
          "traceback": [
            "\u001b[0;31m---------------------------------------------------------------------------\u001b[0m",
            "\u001b[0;31mNameError\u001b[0m                                 Traceback (most recent call last)",
            "Input \u001b[0;32mIn [5]\u001b[0m, in \u001b[0;36m<cell line: 1>\u001b[0;34m()\u001b[0m\n\u001b[0;32m----> 1\u001b[0m \u001b[43my_pred\u001b[49m\n",
            "\u001b[0;31mNameError\u001b[0m: name 'y_pred' is not defined"
          ]
        }
      ]
    },
    {
      "cell_type": "code",
      "source": [
        "cf_matrix = confusion_matrix(y_test, tf.round(y_pred))\n",
        "cf_matrix"
      ],
      "metadata": {
        "colab": {
          "base_uri": "https://localhost:8080/"
        },
        "id": "-MKegW3OQh-b",
        "outputId": "3daf1001-2c63-4b15-d5ab-704f30512acc"
      },
      "execution_count": null,
      "outputs": [
        {
          "output_type": "execute_result",
          "data": {
            "text/plain": [
              "array([[334914,  61746],\n",
              "       [143248,  29517]])"
            ]
          },
          "metadata": {},
          "execution_count": 47
        }
      ]
    },
    {
      "cell_type": "code",
      "source": [
        "import seaborn as sns\n",
        "import matplotlib.pyplot as plt\n",
        "\n",
        "ax = sns.heatmap(cf_matrix/np.sum(cf_matrix), annot=True, \n",
        "            fmt='.2%', cmap='Blues')\n",
        "\n",
        "ax.set_xlabel('\\nPredicted Values')\n",
        "ax.set_ylabel('Actual Values ');\n",
        "\n",
        "ax.xaxis.set_ticklabels(['False','True'])\n",
        "ax.yaxis.set_ticklabels(['False','True'])\n",
        "\n",
        "plt.show()"
      ],
      "metadata": {
        "colab": {
          "base_uri": "https://localhost:8080/",
          "height": 466
        },
        "id": "o3uAqYy5ojKg",
        "outputId": "7a3e297c-9689-4751-f880-9206798e0aa3"
      },
      "execution_count": null,
      "outputs": [
        {
          "output_type": "display_data",
          "data": {
            "text/plain": [
              "<Figure size 640x480 with 2 Axes>"
            ],
            "image/png": "[encoded data removed]"
          },
          "metadata": {}
        }
      ]
    },
    {
      "cell_type": "code",
      "source": [
        "cf_matrix = confusion_matrix(y_test, tf.round(y_pred))\n",
        "cf_matrix"
      ],
      "metadata": {
        "colab": {
          "base_uri": "https://localhost:8080/"
        },
        "id": "40rqancT5-Yt",
        "outputId": "4a4ff89a-9c14-42de-ae69-e25ca30faa12"
      },
      "execution_count": null,
      "outputs": [
        {
          "output_type": "execute_result",
          "data": {
            "text/plain": [
              "array([[391038,   5622],\n",
              "       [169638,   3127]])"
            ]
          },
          "metadata": {},
          "execution_count": 21
        }
      ]
    }
  ]
}